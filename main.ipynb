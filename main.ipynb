{
  "nbformat": 4,
  "nbformat_minor": 0,
  "metadata": {
    "colab": {
      "provenance": [],
      "authorship_tag": "ABX9TyMUz2ov587JuGoBKKBZE84Y",
      "include_colab_link": true
    },
    "kernelspec": {
      "name": "python3",
      "display_name": "Python 3"
    },
    "language_info": {
      "name": "python"
    }
  },
  "cells": [
    {
      "cell_type": "markdown",
      "metadata": {
        "id": "view-in-github",
        "colab_type": "text"
      },
      "source": [
        "<a href=\"https://colab.research.google.com/github/Saronzeleke/Splitter/blob/main/main.ipynb\" target=\"_parent\"><img src=\"https://colab.research.google.com/assets/colab-badge.svg\" alt=\"Open In Colab\"/></a>"
      ]
    },
    {
      "cell_type": "code",
      "source": [
        "!sudo apt-get install portaudio19-dev python-all-dev python3-all-dev"
      ],
      "metadata": {
        "colab": {
          "base_uri": "https://localhost:8080/"
        },
        "id": "ejW0NMHIpAQr",
        "outputId": "bb0d5ca1-03b5-4730-9c11-a344be83e120"
      },
      "execution_count": 9,
      "outputs": [
        {
          "output_type": "stream",
          "name": "stdout",
          "text": [
            "Reading package lists... Done\n",
            "Building dependency tree... Done\n",
            "Reading state information... Done\n",
            "The following additional packages will be installed:\n",
            "  libportaudio2 libportaudiocpp0 libpython-all-dev libpython2-dev\n",
            "  libpython2-stdlib libpython2.7 libpython2.7-dev libpython2.7-minimal\n",
            "  libpython2.7-stdlib libpython3-all-dev python-all python2 python2-dev\n",
            "  python2-minimal python2.7 python2.7-dev python2.7-minimal python3-all\n",
            "Suggested packages:\n",
            "  portaudio19-doc python2-doc python-tk python2.7-doc binfmt-support\n",
            "The following NEW packages will be installed:\n",
            "  libportaudio2 libportaudiocpp0 libpython-all-dev libpython2-dev\n",
            "  libpython2-stdlib libpython2.7 libpython2.7-dev libpython2.7-minimal\n",
            "  libpython2.7-stdlib libpython3-all-dev portaudio19-dev python-all\n",
            "  python-all-dev python2 python2-dev python2-minimal python2.7 python2.7-dev\n",
            "  python2.7-minimal python3-all python3-all-dev\n",
            "0 upgraded, 21 newly installed, 0 to remove and 34 not upgraded.\n",
            "Need to get 8,178 kB of archives.\n",
            "After this operation, 33.6 MB of additional disk space will be used.\n",
            "Get:1 http://archive.ubuntu.com/ubuntu jammy-updates/universe amd64 libpython2.7-minimal amd64 2.7.18-13ubuntu1.5 [347 kB]\n",
            "Get:2 http://archive.ubuntu.com/ubuntu jammy-updates/universe amd64 python2.7-minimal amd64 2.7.18-13ubuntu1.5 [1,400 kB]\n",
            "Get:3 http://archive.ubuntu.com/ubuntu jammy/universe amd64 python2-minimal amd64 2.7.18-3 [20.8 kB]\n",
            "Get:4 http://archive.ubuntu.com/ubuntu jammy-updates/universe amd64 libpython2.7-stdlib amd64 2.7.18-13ubuntu1.5 [1,977 kB]\n",
            "Get:5 http://archive.ubuntu.com/ubuntu jammy-updates/universe amd64 python2.7 amd64 2.7.18-13ubuntu1.5 [250 kB]\n",
            "Get:6 http://archive.ubuntu.com/ubuntu jammy/universe amd64 libpython2-stdlib amd64 2.7.18-3 [7,432 B]\n",
            "Get:7 http://archive.ubuntu.com/ubuntu jammy/universe amd64 python2 amd64 2.7.18-3 [9,098 B]\n",
            "Get:8 http://archive.ubuntu.com/ubuntu jammy/universe amd64 libportaudio2 amd64 19.6.0-1.1 [65.3 kB]\n",
            "Get:9 http://archive.ubuntu.com/ubuntu jammy/universe amd64 libportaudiocpp0 amd64 19.6.0-1.1 [16.1 kB]\n",
            "Get:10 http://archive.ubuntu.com/ubuntu jammy-updates/universe amd64 libpython2.7 amd64 2.7.18-13ubuntu1.5 [1,164 kB]\n",
            "Get:11 http://archive.ubuntu.com/ubuntu jammy-updates/universe amd64 libpython2.7-dev amd64 2.7.18-13ubuntu1.5 [2,514 kB]\n",
            "Get:12 http://archive.ubuntu.com/ubuntu jammy/universe amd64 libpython2-dev amd64 2.7.18-3 [7,512 B]\n",
            "Get:13 http://archive.ubuntu.com/ubuntu jammy/universe amd64 libpython-all-dev amd64 2.7.18-3 [922 B]\n",
            "Get:14 http://archive.ubuntu.com/ubuntu jammy-updates/main amd64 libpython3-all-dev amd64 3.10.6-1~22.04.1 [928 B]\n",
            "Get:15 http://archive.ubuntu.com/ubuntu jammy/universe amd64 portaudio19-dev amd64 19.6.0-1.1 [106 kB]\n",
            "Get:16 http://archive.ubuntu.com/ubuntu jammy/universe amd64 python-all amd64 2.7.18-3 [902 B]\n",
            "Get:17 http://archive.ubuntu.com/ubuntu jammy-updates/universe amd64 python2.7-dev amd64 2.7.18-13ubuntu1.5 [287 kB]\n",
            "Get:18 http://archive.ubuntu.com/ubuntu jammy/universe amd64 python2-dev amd64 2.7.18-3 [1,064 B]\n",
            "Get:19 http://archive.ubuntu.com/ubuntu jammy/universe amd64 python-all-dev amd64 2.7.18-3 [922 B]\n",
            "Get:20 http://archive.ubuntu.com/ubuntu jammy-updates/main amd64 python3-all amd64 3.10.6-1~22.04.1 [902 B]\n",
            "Get:21 http://archive.ubuntu.com/ubuntu jammy-updates/main amd64 python3-all-dev amd64 3.10.6-1~22.04.1 [920 B]\n",
            "Fetched 8,178 kB in 1s (5,973 kB/s)\n",
            "debconf: unable to initialize frontend: Dialog\n",
            "debconf: (No usable dialog-like program is installed, so the dialog based frontend cannot be used. at /usr/share/perl5/Debconf/FrontEnd/Dialog.pm line 78, <> line 21.)\n",
            "debconf: falling back to frontend: Readline\n",
            "debconf: unable to initialize frontend: Readline\n",
            "debconf: (This frontend requires a controlling tty.)\n",
            "debconf: falling back to frontend: Teletype\n",
            "dpkg-preconfigure: unable to re-open stdin: \n",
            "Selecting previously unselected package libpython2.7-minimal:amd64.\n",
            "(Reading database ... 126102 files and directories currently installed.)\n",
            "Preparing to unpack .../0-libpython2.7-minimal_2.7.18-13ubuntu1.5_amd64.deb ...\n",
            "Unpacking libpython2.7-minimal:amd64 (2.7.18-13ubuntu1.5) ...\n",
            "Selecting previously unselected package python2.7-minimal.\n",
            "Preparing to unpack .../1-python2.7-minimal_2.7.18-13ubuntu1.5_amd64.deb ...\n",
            "Unpacking python2.7-minimal (2.7.18-13ubuntu1.5) ...\n",
            "Selecting previously unselected package python2-minimal.\n",
            "Preparing to unpack .../2-python2-minimal_2.7.18-3_amd64.deb ...\n",
            "Unpacking python2-minimal (2.7.18-3) ...\n",
            "Selecting previously unselected package libpython2.7-stdlib:amd64.\n",
            "Preparing to unpack .../3-libpython2.7-stdlib_2.7.18-13ubuntu1.5_amd64.deb ...\n",
            "Unpacking libpython2.7-stdlib:amd64 (2.7.18-13ubuntu1.5) ...\n",
            "Selecting previously unselected package python2.7.\n",
            "Preparing to unpack .../4-python2.7_2.7.18-13ubuntu1.5_amd64.deb ...\n",
            "Unpacking python2.7 (2.7.18-13ubuntu1.5) ...\n",
            "Selecting previously unselected package libpython2-stdlib:amd64.\n",
            "Preparing to unpack .../5-libpython2-stdlib_2.7.18-3_amd64.deb ...\n",
            "Unpacking libpython2-stdlib:amd64 (2.7.18-3) ...\n",
            "Setting up libpython2.7-minimal:amd64 (2.7.18-13ubuntu1.5) ...\n",
            "Setting up python2.7-minimal (2.7.18-13ubuntu1.5) ...\n",
            "Linking and byte-compiling packages for runtime python2.7...\n",
            "Setting up python2-minimal (2.7.18-3) ...\n",
            "Selecting previously unselected package python2.\n",
            "(Reading database ... 126845 files and directories currently installed.)\n",
            "Preparing to unpack .../00-python2_2.7.18-3_amd64.deb ...\n",
            "Unpacking python2 (2.7.18-3) ...\n",
            "Selecting previously unselected package libportaudio2:amd64.\n",
            "Preparing to unpack .../01-libportaudio2_19.6.0-1.1_amd64.deb ...\n",
            "Unpacking libportaudio2:amd64 (19.6.0-1.1) ...\n",
            "Selecting previously unselected package libportaudiocpp0:amd64.\n",
            "Preparing to unpack .../02-libportaudiocpp0_19.6.0-1.1_amd64.deb ...\n",
            "Unpacking libportaudiocpp0:amd64 (19.6.0-1.1) ...\n",
            "Selecting previously unselected package libpython2.7:amd64.\n",
            "Preparing to unpack .../03-libpython2.7_2.7.18-13ubuntu1.5_amd64.deb ...\n",
            "Unpacking libpython2.7:amd64 (2.7.18-13ubuntu1.5) ...\n",
            "Selecting previously unselected package libpython2.7-dev:amd64.\n",
            "Preparing to unpack .../04-libpython2.7-dev_2.7.18-13ubuntu1.5_amd64.deb ...\n",
            "Unpacking libpython2.7-dev:amd64 (2.7.18-13ubuntu1.5) ...\n",
            "Selecting previously unselected package libpython2-dev:amd64.\n",
            "Preparing to unpack .../05-libpython2-dev_2.7.18-3_amd64.deb ...\n",
            "Unpacking libpython2-dev:amd64 (2.7.18-3) ...\n",
            "Selecting previously unselected package libpython-all-dev:amd64.\n",
            "Preparing to unpack .../06-libpython-all-dev_2.7.18-3_amd64.deb ...\n",
            "Unpacking libpython-all-dev:amd64 (2.7.18-3) ...\n",
            "Selecting previously unselected package libpython3-all-dev:amd64.\n",
            "Preparing to unpack .../07-libpython3-all-dev_3.10.6-1~22.04.1_amd64.deb ...\n",
            "Unpacking libpython3-all-dev:amd64 (3.10.6-1~22.04.1) ...\n",
            "Selecting previously unselected package portaudio19-dev:amd64.\n",
            "Preparing to unpack .../08-portaudio19-dev_19.6.0-1.1_amd64.deb ...\n",
            "Unpacking portaudio19-dev:amd64 (19.6.0-1.1) ...\n",
            "Selecting previously unselected package python-all.\n",
            "Preparing to unpack .../09-python-all_2.7.18-3_amd64.deb ...\n",
            "Unpacking python-all (2.7.18-3) ...\n",
            "Selecting previously unselected package python2.7-dev.\n",
            "Preparing to unpack .../10-python2.7-dev_2.7.18-13ubuntu1.5_amd64.deb ...\n",
            "Unpacking python2.7-dev (2.7.18-13ubuntu1.5) ...\n",
            "Selecting previously unselected package python2-dev.\n",
            "Preparing to unpack .../11-python2-dev_2.7.18-3_amd64.deb ...\n",
            "Unpacking python2-dev (2.7.18-3) ...\n",
            "Selecting previously unselected package python-all-dev.\n",
            "Preparing to unpack .../12-python-all-dev_2.7.18-3_amd64.deb ...\n",
            "Unpacking python-all-dev (2.7.18-3) ...\n",
            "Selecting previously unselected package python3-all.\n",
            "Preparing to unpack .../13-python3-all_3.10.6-1~22.04.1_amd64.deb ...\n",
            "Unpacking python3-all (3.10.6-1~22.04.1) ...\n",
            "Selecting previously unselected package python3-all-dev.\n",
            "Preparing to unpack .../14-python3-all-dev_3.10.6-1~22.04.1_amd64.deb ...\n",
            "Unpacking python3-all-dev (3.10.6-1~22.04.1) ...\n",
            "Setting up libportaudio2:amd64 (19.6.0-1.1) ...\n",
            "Setting up python3-all (3.10.6-1~22.04.1) ...\n",
            "Setting up libportaudiocpp0:amd64 (19.6.0-1.1) ...\n",
            "Setting up portaudio19-dev:amd64 (19.6.0-1.1) ...\n",
            "Setting up libpython2.7-stdlib:amd64 (2.7.18-13ubuntu1.5) ...\n",
            "Setting up libpython3-all-dev:amd64 (3.10.6-1~22.04.1) ...\n",
            "Setting up python3-all-dev (3.10.6-1~22.04.1) ...\n",
            "Setting up libpython2.7:amd64 (2.7.18-13ubuntu1.5) ...\n",
            "Setting up libpython2.7-dev:amd64 (2.7.18-13ubuntu1.5) ...\n",
            "Setting up python2.7 (2.7.18-13ubuntu1.5) ...\n",
            "Setting up libpython2-stdlib:amd64 (2.7.18-3) ...\n",
            "Setting up python2 (2.7.18-3) ...\n",
            "Setting up libpython2-dev:amd64 (2.7.18-3) ...\n",
            "Setting up python2.7-dev (2.7.18-13ubuntu1.5) ...\n",
            "Setting up python2-dev (2.7.18-3) ...\n",
            "Setting up libpython-all-dev:amd64 (2.7.18-3) ...\n",
            "Setting up python-all (2.7.18-3) ...\n",
            "Setting up python-all-dev (2.7.18-3) ...\n",
            "Processing triggers for libc-bin (2.35-0ubuntu3.8) ...\n",
            "/sbin/ldconfig.real: /usr/local/lib/libtbbbind_2_5.so.3 is not a symbolic link\n",
            "\n",
            "/sbin/ldconfig.real: /usr/local/lib/libur_adapter_opencl.so.0 is not a symbolic link\n",
            "\n",
            "/sbin/ldconfig.real: /usr/local/lib/libtbbmalloc_proxy.so.2 is not a symbolic link\n",
            "\n",
            "/sbin/ldconfig.real: /usr/local/lib/libtcm.so.1 is not a symbolic link\n",
            "\n",
            "/sbin/ldconfig.real: /usr/local/lib/libumf.so.0 is not a symbolic link\n",
            "\n",
            "/sbin/ldconfig.real: /usr/local/lib/libtbbbind.so.3 is not a symbolic link\n",
            "\n",
            "/sbin/ldconfig.real: /usr/local/lib/libtcm_debug.so.1 is not a symbolic link\n",
            "\n",
            "/sbin/ldconfig.real: /usr/local/lib/libur_adapter_level_zero.so.0 is not a symbolic link\n",
            "\n",
            "/sbin/ldconfig.real: /usr/local/lib/libhwloc.so.15 is not a symbolic link\n",
            "\n",
            "/sbin/ldconfig.real: /usr/local/lib/libur_loader.so.0 is not a symbolic link\n",
            "\n",
            "/sbin/ldconfig.real: /usr/local/lib/libtbbbind_2_0.so.3 is not a symbolic link\n",
            "\n",
            "/sbin/ldconfig.real: /usr/local/lib/libtbb.so.12 is not a symbolic link\n",
            "\n",
            "/sbin/ldconfig.real: /usr/local/lib/libtbbmalloc.so.2 is not a symbolic link\n",
            "\n",
            "Processing triggers for man-db (2.10.2-1) ...\n",
            "Processing triggers for mailcap (3.70+nmu1ubuntu1) ...\n"
          ]
        }
      ]
    },
    {
      "cell_type": "code",
      "source": [
        "!pip install pyaudio"
      ],
      "metadata": {
        "colab": {
          "base_uri": "https://localhost:8080/"
        },
        "id": "n0oipgvSqaD4",
        "outputId": "4053fde4-fd3f-442a-d581-e69ceaa4a984"
      },
      "execution_count": 10,
      "outputs": [
        {
          "output_type": "stream",
          "name": "stdout",
          "text": [
            "Collecting pyaudio\n",
            "  Using cached PyAudio-0.2.14.tar.gz (47 kB)\n",
            "  Installing build dependencies ... \u001b[?25l\u001b[?25hdone\n",
            "  Getting requirements to build wheel ... \u001b[?25l\u001b[?25hdone\n",
            "  Preparing metadata (pyproject.toml) ... \u001b[?25l\u001b[?25hdone\n",
            "Building wheels for collected packages: pyaudio\n",
            "  Building wheel for pyaudio (pyproject.toml) ... \u001b[?25l\u001b[?25hdone\n",
            "  Created wheel for pyaudio: filename=pyaudio-0.2.14-cp311-cp311-linux_x86_64.whl size=67425 sha256=6d8d1d9f93e42ac8ad63554c59b516b1486d2884167d115b9fd611ffeaf7caa0\n",
            "  Stored in directory: /root/.cache/pip/wheels/80/b1/c1/67e4ef443de2665d86031d4760508094eab5de37d5d64d9c27\n",
            "Successfully built pyaudio\n",
            "Installing collected packages: pyaudio\n",
            "Successfully installed pyaudio-0.2.14\n"
          ]
        }
      ]
    },
    {
      "cell_type": "code",
      "source": [
        "!pip install keyboard"
      ],
      "metadata": {
        "colab": {
          "base_uri": "https://localhost:8080/"
        },
        "id": "4mdgSdKhq7-K",
        "outputId": "2de7ed99-6990-483a-adfa-98adb71f3e41"
      },
      "execution_count": 11,
      "outputs": [
        {
          "output_type": "stream",
          "name": "stdout",
          "text": [
            "Requirement already satisfied: keyboard in /usr/local/lib/python3.11/dist-packages (0.13.5)\n"
          ]
        }
      ]
    },
    {
      "cell_type": "code",
      "source": [
        "import pyaudio\n",
        "import wave\n",
        "import numpy as np\n",
        "import keyboard\n",
        "from threading import Thread, Event\n",
        "import time\n",
        "import os\n",
        "from collections import deque\n",
        "import json\n",
        "from datetime import datetime\n",
        "import argparse"
      ],
      "metadata": {
        "id": "b8LxTQU7rEcA"
      },
      "execution_count": 12,
      "outputs": []
    },
    {
      "cell_type": "code",
      "source": [
        "class AudioSplitter:\n",
        "    def __init__(self, silence_threshold=500, min_keystroke_gap=0.1, output_dir=\"split-audio\", log_file=\"keystroke-log.json\"):\n",
        "        self.FORMAT = pyaudio.paInt16\n",
        "        self.CHANNELS = 1\n",
        "        self.RATE = 44100\n",
        "        self.CHUNK = 1024\n",
        "        self.SILENCE_THRESHOLD = silence_threshold\n",
        "        self.MIN_KEYSTROKE_GAP = min_keystroke_gap\n",
        "\n",
        "        self.audio = pyaudio.PyAudio()\n",
        "        self.frames = []\n",
        "        self.is_recording = False\n",
        "        self.stop_event = Event()\n",
        "        self.keystroke_times = []\n",
        "        self.actual_keystrokes = []\n",
        "        self.output_dir = output_dir\n",
        "        self.log_file = log_file\n",
        "\n",
        "        self.amplitude_window = deque(maxlen=5)\n",
        "        self.last_keystroke_time = 0\n",
        "\n",
        "        os.makedirs(self.output_dir, exist_ok=True)\n",
        ""
      ],
      "metadata": {
        "id": "ub1MSquKrHnc"
      },
      "execution_count": 15,
      "outputs": []
    },
    {
      "cell_type": "code",
      "source": [
        "def callback(self, in_data, frame_count, time_info, status):\n",
        "        if self.is_recording:\n",
        "            self.frames.append(in_data)\n",
        "            audio_data = np.frombuffer(in_data, dtype=np.int16)\n",
        "            current_amplitude = np.abs(audio_data).mean()\n",
        "            self.amplitude_window.append(current_amplitude)\n",
        "\n",
        "            if (len(self.amplitude_window) == self.amplitude_window.maxlen and\n",
        "                current_amplitude > self.SILENCE_THRESHOLD and\n",
        "                (time.time() - self.last_keystroke_time) > self.MIN_KEYSTROKE_GAP):\n",
        "                self.last_keystroke_time = time.time()\n",
        "                self.keystroke_times.append(len(self.frames) - 1)\n",
        "        return (in_data, pyaudio.paContinue)\n"
      ],
      "metadata": {
        "id": "XfcL-RUOrT8F"
      },
      "execution_count": 16,
      "outputs": []
    },
    {
      "cell_type": "code",
      "source": [
        "def start_recording(self):\n",
        "        self.stream = self.audio.open(\n",
        "            format=self.FORMAT,\n",
        "            channels=self.CHANNELS,\n",
        "            rate=self.RATE,\n",
        "            input=True,\n",
        "            frames_per_buffer=self.CHUNK,\n",
        "            stream_callback=self.callback\n",
        "        )\n",
        "        self.is_recording = True\n",
        "        print(\"Recording started... Press ESC to stop.\")"
      ],
      "metadata": {
        "id": "Y3jZw9QzsBv9"
      },
      "execution_count": 19,
      "outputs": []
    },
    {
      "cell_type": "code",
      "source": [
        "def stop_recording(self):\n",
        "        self.is_recording = False\n",
        "        if hasattr(self, 'stream'):\n",
        "            self.stream.stop_stream()\n",
        "            self.stream.close()\n",
        "        self.audio.terminate()\n",
        "        print(\"Recording stopped.\")"
      ],
      "metadata": {
        "id": "Y5i3b7RAsEuZ"
      },
      "execution_count": 20,
      "outputs": []
    },
    {
      "cell_type": "code",
      "source": [
        "def save_audio_segment(self, filename, start_frame, end_frame):\n",
        "        wf = wave.open(filename, 'wb')\n",
        "        wf.setnchannels(self.CHANNELS)\n",
        "        wf.setsampwidth(self.audio.get_sample_size(self.FORMAT))\n",
        "        wf.setframerate(self.RATE)\n",
        "        wf.writeframes(b''.join(self.frames[start_frame:end_frame]))\n",
        "        wf.close()"
      ],
      "metadata": {
        "id": "xqT01SoOsII6"
      },
      "execution_count": 21,
      "outputs": []
    },
    {
      "cell_type": "code",
      "source": [
        "def split_by_keystrokes(self):\n",
        "        if not self.keystroke_times:\n",
        "            print(\"No keystrokes detected\")\n",
        "            return\n",
        "        split_points = [0] + self.keystroke_times + [len(self.frames)]\n",
        "        for i in range(1, len(split_points)):\n",
        "            start = split_points[i-1]\n",
        "            end = split_points[i]\n",
        "            filename = os.path.join(self.output_dir, f\"segment_{i}.wav\")\n",
        "            self.save_audio_segment(filename, start, end)\n",
        "            print(f\"Saved {filename} (frames {start}-{end})\")"
      ],
      "metadata": {
        "id": "ktnsGZ0BsOB1"
      },
      "execution_count": 22,
      "outputs": []
    },
    {
      "cell_type": "code",
      "source": [
        "def log_actual_keystroke(self, event):\n",
        "        if event.event_type == keyboard.KEY_DOWN:\n",
        "            timestamp = datetime.now().isoformat()\n",
        "            self.actual_keystrokes.append({\n",
        "                'key': event.name,\n",
        "                'time': timestamp,\n",
        "                'frame_index': len(self.frames) if self.is_recording else None\n",
        "            })\n",
        "            if len(self.actual_keystrokes) % 5 == 0:\n",
        "                self.save_keystroke_log()"
      ],
      "metadata": {
        "id": "jU88hY6osaeA"
      },
      "execution_count": 23,
      "outputs": []
    },
    {
      "cell_type": "code",
      "source": [
        "def save_keystroke_log(self):\n",
        "        with open(self.log_file, 'w') as f:\n",
        "            json.dump(self.actual_keystrokes, f, indent=2)\n",
        "\n",
        ""
      ],
      "metadata": {
        "id": "TxQjJus8sjh6"
      },
      "execution_count": 24,
      "outputs": []
    },
    {
      "cell_type": "code",
      "source": [
        "def monitor_keys(self):\n",
        "        keyboard.hook(self.log_actual_keystroke)\n",
        "        while not self.stop_event.is_set():\n",
        "            time.sleep(0.1)\n",
        "        keyboard.unhook_all()"
      ],
      "metadata": {
        "id": "M_5RPjuXsp_x"
      },
      "execution_count": 25,
      "outputs": []
    },
    {
      "cell_type": "code",
      "source": [
        "def run(self):\n",
        "        print(f\"Amplitude threshold: {self.SILENCE_THRESHOLD}\")\n",
        "        print(\"Press ESC to stop and split by detected keystrokes\")\n",
        "\n",
        "        key_thread = Thread(target=self.monitor_keys)\n",
        "        key_thread.start()\n",
        "        self.start_recording()\n",
        "        keyboard.wait('esc')\n",
        "        self.stop_event.set()\n",
        "        self.stop_recording()\n",
        "        key_thread.join()\n",
        "        print(f\"\\nDetected {len(self.keystroke_times)} keystrokes by amplitude\")\n",
        "        self.split_by_keystrokes()\n",
        "        self.save_keystroke_log()\n",
        "        print(f\"\\nActual keystrokes logged to {self.log_file}\")\n",
        "        print(f\"Audio segments saved to '{self.output_dir}' directory\")"
      ],
      "metadata": {
        "id": "vVP7D4f5sq4K"
      },
      "execution_count": 26,
      "outputs": []
    },
    {
      "cell_type": "code",
      "source": [
        "if __name__ == \"__main__\":\n",
        "    # Instead of parsing arguments, directly set the values:\n",
        "    silence_threshold = 500  # Default value\n",
        "    min_keystroke_gap = 0.1  # Default value\n",
        "    output_dir = \"split_audio\"  # Default value\n",
        "    log_file = \"keystroke_log.json\"  # Default value\n",
        "\n",
        "    try:\n",
        "        splitter = AudioSplitter(\n",
        "            silence_threshold=silence_threshold,\n",
        "            min_keystroke_gap=min_keystroke_gap,\n",
        "            output_dir=output_dir,\n",
        "            log_file=log_file\n",
        "        )\n",
        "        splitter.run()\n",
        "    except Exception as e:\n",
        "        import traceback\n",
        "        traceback.print_exc()  # Print the full traceback for more details\n",
        "        print(f\"Error: {e}\")"
      ],
      "metadata": {
        "colab": {
          "base_uri": "https://localhost:8080/"
        },
        "id": "wfoGmGqqvhZh",
        "outputId": "2be05a0c-c248-47c6-ba5e-6f71a1f86657"
      },
      "execution_count": 37,
      "outputs": [
        {
          "output_type": "stream",
          "name": "stdout",
          "text": [
            "Error: 'AudioSplitter' object has no attribute 'run'\n"
          ]
        },
        {
          "output_type": "stream",
          "name": "stderr",
          "text": [
            "Traceback (most recent call last):\n",
            "  File \"<ipython-input-37-818d74d2ea6b>\", line 15, in <cell line: 0>\n",
            "    splitter.run()\n",
            "    ^^^^^^^^^^^^\n",
            "AttributeError: 'AudioSplitter' object has no attribute 'run'\n"
          ]
        }
      ]
    },
    {
      "cell_type": "code",
      "source": [],
      "metadata": {
        "id": "KbDp58xivjlB"
      },
      "execution_count": null,
      "outputs": []
    }
  ]
}